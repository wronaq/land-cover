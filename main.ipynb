{
 "metadata": {
  "language_info": {
   "codemirror_mode": {
    "name": "ipython",
    "version": 3
   },
   "file_extension": ".py",
   "mimetype": "text/x-python",
   "name": "python",
   "nbconvert_exporter": "python",
   "pygments_lexer": "ipython3",
   "version": "3.7.3-final"
  },
  "orig_nbformat": 2,
  "kernelspec": {
   "name": "python_defaultSpec_1598721940030",
   "display_name": "Python 3.7.3 64-bit ('.venv': venv)"
  }
 },
 "nbformat": 4,
 "nbformat_minor": 2,
 "cells": [
  {
   "cell_type": "code",
   "execution_count": 1,
   "metadata": {},
   "outputs": [],
   "source": [
    "import numpy as np\n",
    "import torch\n",
    "from torch.utils.data.sampler import SubsetRandomSampler\n",
    "from torch.utils.data import DataLoader, Subset\n",
    "import torch.nn as nn\n",
    "import torch.optim as optim\n",
    "from torchvision.transforms import Compose, RandomChoice\n",
    "\n",
    "from utils import LandCoverDataset, Resize, ToTensor, Normalize, BrightnessJitter, ContrastJitter, SaturationJitter, HueJitter, EarlyStopping, validation\n",
    "from models import UNet\n",
    "\n",
    "from tensorboardX import SummaryWriter"
   ]
  },
  {
   "cell_type": "code",
   "execution_count": 4,
   "metadata": {},
   "outputs": [],
   "source": [
    "class Config():\n",
    "    DATA_FOLDER = 'data'\n",
    "    RESIZE = (224,224)\n",
    "    BATCH_SIZE = 16\n",
    "    TRAIN_SPLIT = .8\n",
    "    VAL_TEST_SPLIT = .5\n",
    "    SUFFLE_DATASET = True\n",
    "    RANDOM_SEED = 2137\n",
    "    LR = 0.001\n",
    "    EPOCHS = 200\n",
    "    PRINT_EVERY_START = 10\n",
    "    PRINT_EVERY = 100\n",
    "    MODEL_NAME = \"final_nn_model.pt\""
   ]
  },
  {
   "cell_type": "markdown",
   "metadata": {},
   "source": [
    "# Load data "
   ]
  },
  {
   "cell_type": "markdown",
   "metadata": {},
   "source": [
    "## Calculate mean and standard deviation for normalization"
   ]
  },
  {
   "cell_type": "code",
   "execution_count": 3,
   "metadata": {
    "tags": []
   },
   "outputs": [
    {
     "output_type": "stream",
     "name": "stdout",
     "text": "Means: [107.20428231 115.20819438  91.24265174]\nStds:  [28.27333931 21.92629058 20.89825626]\n"
    }
   ],
   "source": [
    "# set train, valid and test indexes\n",
    "dataset = LandCoverDataset(root_dir=Config.DATA_FOLDER, transform=Resize(Config.RESIZE))\n",
    "indexes = list(range(len(dataset)))\n",
    "split_point = int(np.floor(Config.TRAIN_SPLIT * len(dataset)))\n",
    "if Config.SUFFLE_DATASET:\n",
    "    np.random.seed(Config.RANDOM_SEED)\n",
    "    np.random.shuffle(indexes)\n",
    "train_indexes, rest_indexes = indexes[:split_point], indexes[split_point:]\n",
    "val_test_split_point = int(np.floor(Config.VAL_TEST_SPLIT * len(rest_indexes)))\n",
    "valid_indexes, test_indexes = rest_indexes[:val_test_split_point], rest_indexes[val_test_split_point:]\n",
    "\n",
    "# make dataset samplers\n",
    "train_sampler = SubsetRandomSampler(train_indexes)\n",
    "valid_sampler = SubsetRandomSampler(valid_indexes)\n",
    "test_sampler = SubsetRandomSampler(test_indexes)\n",
    "\n",
    "# train loader (for calculating normalize parameters)\n",
    "loader = DataLoader(dataset=dataset, batch_size=Config.BATCH_SIZE, shuffle=False, sampler=train_sampler)\n",
    "\n",
    "# batch means and stds\n",
    "batch_means = []\n",
    "batch_stds = []\n",
    "for i, sample in enumerate(loader):\n",
    "    images = sample['image']    \n",
    "    batch_means.append(np.mean(images.numpy(), axis=(0,1,2))) # batch, height, width\n",
    "    batch_stds.append(np.std(images.numpy(), axis=(0,1,2), ddof=1)) # batch, height, width\n",
    "\n",
    "# overall mean and std per channel\n",
    "means = np.array(batch_means).mean(axis=0)\n",
    "stds = np.array(batch_stds).mean(axis=0)\n",
    "\n",
    "print(f'Means: {means}\\nStds:  {stds}')"
   ]
  },
  {
   "cell_type": "markdown",
   "metadata": {},
   "source": [
    "## Prepare dataloaders"
   ]
  },
  {
   "cell_type": "code",
   "execution_count": 5,
   "metadata": {},
   "outputs": [],
   "source": [
    "# transformations\n",
    "train_transform = Compose([\n",
    "    Resize((224, 224)),\n",
    "    RandomChoice([\n",
    "        BrightnessJitter(brightness=.25),\n",
    "        ContrastJitter(contrast=.15),\n",
    "        SaturationJitter(saturation=.15),\n",
    "        HueJitter(hue=.1),\n",
    "        ]),\n",
    "    Normalize(mean=means, std=stds),\n",
    "    ToTensor(),\n",
    "])\n",
    "\n",
    "val_test_transform = Compose([\n",
    "    Resize((224, 224)),\n",
    "    Normalize(mean=means, std=stds),\n",
    "    ToTensor(),\n",
    "])\n",
    "\n",
    "# datasets (using samplers from previous step to create train/valid/test split)\n",
    "train_dataset = LandCoverDataset(root_dir=Config.DATA_FOLDER, transform=train_transform)\n",
    "train_dataset = Subset(dataset=train_dataset, indices=train_sampler.indices)\n",
    "\n",
    "val_test_dataset = LandCoverDataset(root_dir=Config.DATA_FOLDER, transform=val_test_transform)\n",
    "valid_dataset = Subset(dataset=val_test_dataset, indices=valid_sampler.indices)\n",
    "test_dataset = Subset(dataset=val_test_dataset, indices=test_sampler.indices)\n",
    "\n",
    "\n",
    "# dataloaders\n",
    "train_loader = DataLoader(dataset=train_dataset, batch_size=Config.BATCH_SIZE, shuffle=True, num_workers=4)\n",
    "valid_loader = DataLoader(dataset=valid_dataset, batch_size=Config.BATCH_SIZE, shuffle=True, num_workers=4)\n",
    "test_loader = DataLoader(dataset=test_dataset, batch_size=Config.BATCH_SIZE, shuffle=False, num_workers=4)"
   ]
  },
  {
   "cell_type": "markdown",
   "metadata": {},
   "source": [
    "# Model, loss, optimizer and other"
   ]
  },
  {
   "cell_type": "markdown",
   "metadata": {},
   "source": [
    "## Model"
   ]
  },
  {
   "cell_type": "code",
   "execution_count": 6,
   "metadata": {},
   "outputs": [],
   "source": [
    "writer = SummaryWriter(comment=Config.MODEL_NAME.split('.')[0])"
   ]
  },
  {
   "cell_type": "code",
   "execution_count": 7,
   "metadata": {},
   "outputs": [
    {
     "output_type": "execute_result",
     "data": {
      "text/plain": "UNet(\n  (encoder): Sequential(\n    (0): Sequential(\n      (1): Conv2d(3, 64, kernel_size=(3, 3), stride=(1, 1), padding=(1, 1))\n      (2): BatchNorm2d(64, eps=1e-05, momentum=0.1, affine=True, track_running_stats=True)\n      (3): ReLU()\n      (4): Conv2d(64, 64, kernel_size=(3, 3), stride=(1, 1), padding=(1, 1))\n      (5): BatchNorm2d(64, eps=1e-05, momentum=0.1, affine=True, track_running_stats=True)\n      (6): ReLU()\n    )\n    (1): Sequential(\n      (0): MaxPool2d(kernel_size=2, stride=2, padding=0, dilation=1, ceil_mode=False)\n      (1): Conv2d(64, 128, kernel_size=(3, 3), stride=(1, 1), padding=(1, 1))\n      (2): BatchNorm2d(128, eps=1e-05, momentum=0.1, affine=True, track_running_stats=True)\n      (3): ReLU()\n      (4): Conv2d(128, 128, kernel_size=(3, 3), stride=(1, 1), padding=(1, 1))\n      (5): BatchNorm2d(128, eps=1e-05, momentum=0.1, affine=True, track_running_stats=True)\n      (6): ReLU()\n    )\n    (2): Sequential(\n      (0): MaxPool2d(kernel_size=2, stride=2, padding=0, dilation=1, ceil_mode=False)\n      (1): Conv2d(128, 256, kernel_size=(3, 3), stride=(1, 1), padding=(1, 1))\n      (2): BatchNorm2d(256, eps=1e-05, momentum=0.1, affine=True, track_running_stats=True)\n      (3): ReLU()\n      (4): Conv2d(256, 256, kernel_size=(3, 3), stride=(1, 1), padding=(1, 1))\n      (5): BatchNorm2d(256, eps=1e-05, momentum=0.1, affine=True, track_running_stats=True)\n      (6): ReLU()\n    )\n    (3): Sequential(\n      (0): MaxPool2d(kernel_size=2, stride=2, padding=0, dilation=1, ceil_mode=False)\n      (1): Conv2d(256, 512, kernel_size=(3, 3), stride=(1, 1), padding=(1, 1))\n      (2): BatchNorm2d(512, eps=1e-05, momentum=0.1, affine=True, track_running_stats=True)\n      (3): ReLU()\n      (4): Conv2d(512, 512, kernel_size=(3, 3), stride=(1, 1), padding=(1, 1))\n      (5): BatchNorm2d(512, eps=1e-05, momentum=0.1, affine=True, track_running_stats=True)\n      (6): ReLU()\n    )\n  )\n  (bottleneck): Sequential(\n    (0): Sequential(\n      (0): MaxPool2d(kernel_size=2, stride=2, padding=0, dilation=1, ceil_mode=False)\n      (1): Conv2d(512, 1024, kernel_size=(3, 3), stride=(1, 1), padding=(1, 1))\n      (2): BatchNorm2d(1024, eps=1e-05, momentum=0.1, affine=True, track_running_stats=True)\n      (3): ReLU()\n      (4): Conv2d(1024, 1024, kernel_size=(3, 3), stride=(1, 1), padding=(1, 1))\n      (5): BatchNorm2d(1024, eps=1e-05, momentum=0.1, affine=True, track_running_stats=True)\n      (6): ReLU()\n    )\n    (1): ConvTranspose2d(1024, 512, kernel_size=(2, 2), stride=(2, 2))\n  )\n  (decoder): Sequential(\n    (0): Sequential(\n      (0): Conv2d(1024, 512, kernel_size=(3, 3), stride=(1, 1), padding=(1, 1))\n      (1): BatchNorm2d(512, eps=1e-05, momentum=0.1, affine=True, track_running_stats=True)\n      (2): ReLU()\n      (3): Conv2d(512, 512, kernel_size=(3, 3), stride=(1, 1), padding=(1, 1))\n      (4): BatchNorm2d(512, eps=1e-05, momentum=0.1, affine=True, track_running_stats=True)\n      (5): ReLU()\n      (6): ConvTranspose2d(512, 256, kernel_size=(2, 2), stride=(2, 2))\n    )\n    (1): Sequential(\n      (0): Conv2d(512, 256, kernel_size=(3, 3), stride=(1, 1), padding=(1, 1))\n      (1): BatchNorm2d(256, eps=1e-05, momentum=0.1, affine=True, track_running_stats=True)\n      (2): ReLU()\n      (3): Conv2d(256, 256, kernel_size=(3, 3), stride=(1, 1), padding=(1, 1))\n      (4): BatchNorm2d(256, eps=1e-05, momentum=0.1, affine=True, track_running_stats=True)\n      (5): ReLU()\n      (6): ConvTranspose2d(256, 128, kernel_size=(2, 2), stride=(2, 2))\n    )\n    (2): Sequential(\n      (0): Conv2d(256, 128, kernel_size=(3, 3), stride=(1, 1), padding=(1, 1))\n      (1): BatchNorm2d(128, eps=1e-05, momentum=0.1, affine=True, track_running_stats=True)\n      (2): ReLU()\n      (3): Conv2d(128, 128, kernel_size=(3, 3), stride=(1, 1), padding=(1, 1))\n      (4): BatchNorm2d(128, eps=1e-05, momentum=0.1, affine=True, track_running_stats=True)\n      (5): ReLU()\n      (6): ConvTranspose2d(128, 64, kernel_size=(2, 2), stride=(2, 2))\n    )\n    (3): Sequential(\n      (0): Sequential(\n        (0): Conv2d(128, 64, kernel_size=(3, 3), stride=(1, 1), padding=(1, 1))\n        (1): BatchNorm2d(64, eps=1e-05, momentum=0.1, affine=True, track_running_stats=True)\n        (2): ReLU()\n        (3): Conv2d(64, 64, kernel_size=(3, 3), stride=(1, 1), padding=(1, 1))\n        (4): BatchNorm2d(64, eps=1e-05, momentum=0.1, affine=True, track_running_stats=True)\n        (5): ReLU()\n      )\n      (1): Conv2d(64, 24, kernel_size=(1, 1), stride=(1, 1))\n      (2): BatchNorm2d(24, eps=1e-05, momentum=0.1, affine=True, track_running_stats=True)\n      (3): LogSoftmax(dim=1)\n    )\n  )\n)"
     },
     "metadata": {},
     "execution_count": 7
    }
   ],
   "source": [
    "model = UNet(in_channels=3, features=64, num_classes=24)\n",
    "writer.add_graph(model, torch.randn((1,3,224,224)))\n",
    "model"
   ]
  },
  {
   "cell_type": "markdown",
   "metadata": {},
   "source": [
    "## Loss and optimizer"
   ]
  },
  {
   "cell_type": "code",
   "execution_count": 8,
   "metadata": {},
   "outputs": [],
   "source": [
    "criterion = nn.NLLLoss(reduction='mean')\n",
    "optimizer = optim.Adam(model.parameters(), lr=Config.LR)"
   ]
  },
  {
   "cell_type": "markdown",
   "metadata": {},
   "source": [
    "## Other helpers"
   ]
  },
  {
   "cell_type": "code",
   "execution_count": 9,
   "metadata": {},
   "outputs": [],
   "source": [
    "early_stopping = EarlyStopping(patience=10, verbose=True, delta=0.001)"
   ]
  },
  {
   "cell_type": "markdown",
   "metadata": {},
   "source": [
    "# Training"
   ]
  },
  {
   "cell_type": "code",
   "execution_count": 12,
   "metadata": {
    "tags": []
   },
   "outputs": [
    {
     "output_type": "stream",
     "name": "stdout",
     "text": "Epoch: 1/200, batch: 20/17280, train_loss: 3.39895, train_acc: 0.0844"
    },
    {
     "output_type": "error",
     "ename": "KeyboardInterrupt",
     "evalue": "",
     "traceback": [
      "\u001b[0;31m---------------------------------------------------------------------------\u001b[0m",
      "\u001b[0;31mKeyboardInterrupt\u001b[0m                         Traceback (most recent call last)",
      "\u001b[0;32m<ipython-input-12-139f426457b0>\u001b[0m in \u001b[0;36m<module>\u001b[0;34m\u001b[0m\n\u001b[1;32m     10\u001b[0m         \u001b[0mloss\u001b[0m \u001b[0;34m=\u001b[0m \u001b[0mcriterion\u001b[0m\u001b[0;34m(\u001b[0m\u001b[0moutputs\u001b[0m\u001b[0;34m,\u001b[0m \u001b[0mlabels\u001b[0m\u001b[0;34m)\u001b[0m\u001b[0;34m\u001b[0m\u001b[0;34m\u001b[0m\u001b[0m\n\u001b[1;32m     11\u001b[0m         \u001b[0moptimizer\u001b[0m\u001b[0;34m.\u001b[0m\u001b[0mzero_grad\u001b[0m\u001b[0;34m(\u001b[0m\u001b[0;34m)\u001b[0m\u001b[0;34m\u001b[0m\u001b[0;34m\u001b[0m\u001b[0m\n\u001b[0;32m---> 12\u001b[0;31m         \u001b[0mloss\u001b[0m\u001b[0;34m.\u001b[0m\u001b[0mbackward\u001b[0m\u001b[0;34m(\u001b[0m\u001b[0;34m)\u001b[0m\u001b[0;34m\u001b[0m\u001b[0;34m\u001b[0m\u001b[0m\n\u001b[0m\u001b[1;32m     13\u001b[0m         \u001b[0moptimizer\u001b[0m\u001b[0;34m.\u001b[0m\u001b[0mstep\u001b[0m\u001b[0;34m(\u001b[0m\u001b[0;34m)\u001b[0m\u001b[0;34m\u001b[0m\u001b[0;34m\u001b[0m\u001b[0m\n\u001b[1;32m     14\u001b[0m \u001b[0;34m\u001b[0m\u001b[0m\n",
      "\u001b[0;32m~/python_projects/land-cover/.venv/lib/python3.7/site-packages/torch/tensor.py\u001b[0m in \u001b[0;36mbackward\u001b[0;34m(self, gradient, retain_graph, create_graph)\u001b[0m\n\u001b[1;32m    183\u001b[0m                 \u001b[0mproducts\u001b[0m\u001b[0;34m.\u001b[0m \u001b[0mDefaults\u001b[0m \u001b[0mto\u001b[0m\u001b[0;31m \u001b[0m\u001b[0;31m`\u001b[0m\u001b[0;31m`\u001b[0m\u001b[0;32mFalse\u001b[0m\u001b[0;31m`\u001b[0m\u001b[0;31m`\u001b[0m\u001b[0;34m.\u001b[0m\u001b[0;34m\u001b[0m\u001b[0;34m\u001b[0m\u001b[0m\n\u001b[1;32m    184\u001b[0m         \"\"\"\n\u001b[0;32m--> 185\u001b[0;31m         \u001b[0mtorch\u001b[0m\u001b[0;34m.\u001b[0m\u001b[0mautograd\u001b[0m\u001b[0;34m.\u001b[0m\u001b[0mbackward\u001b[0m\u001b[0;34m(\u001b[0m\u001b[0mself\u001b[0m\u001b[0;34m,\u001b[0m \u001b[0mgradient\u001b[0m\u001b[0;34m,\u001b[0m \u001b[0mretain_graph\u001b[0m\u001b[0;34m,\u001b[0m \u001b[0mcreate_graph\u001b[0m\u001b[0;34m)\u001b[0m\u001b[0;34m\u001b[0m\u001b[0;34m\u001b[0m\u001b[0m\n\u001b[0m\u001b[1;32m    186\u001b[0m \u001b[0;34m\u001b[0m\u001b[0m\n\u001b[1;32m    187\u001b[0m     \u001b[0;32mdef\u001b[0m \u001b[0mregister_hook\u001b[0m\u001b[0;34m(\u001b[0m\u001b[0mself\u001b[0m\u001b[0;34m,\u001b[0m \u001b[0mhook\u001b[0m\u001b[0;34m)\u001b[0m\u001b[0;34m:\u001b[0m\u001b[0;34m\u001b[0m\u001b[0;34m\u001b[0m\u001b[0m\n",
      "\u001b[0;32m~/python_projects/land-cover/.venv/lib/python3.7/site-packages/torch/autograd/__init__.py\u001b[0m in \u001b[0;36mbackward\u001b[0;34m(tensors, grad_tensors, retain_graph, create_graph, grad_variables)\u001b[0m\n\u001b[1;32m    125\u001b[0m     Variable._execution_engine.run_backward(\n\u001b[1;32m    126\u001b[0m         \u001b[0mtensors\u001b[0m\u001b[0;34m,\u001b[0m \u001b[0mgrad_tensors\u001b[0m\u001b[0;34m,\u001b[0m \u001b[0mretain_graph\u001b[0m\u001b[0;34m,\u001b[0m \u001b[0mcreate_graph\u001b[0m\u001b[0;34m,\u001b[0m\u001b[0;34m\u001b[0m\u001b[0;34m\u001b[0m\u001b[0m\n\u001b[0;32m--> 127\u001b[0;31m         allow_unreachable=True)  # allow_unreachable flag\n\u001b[0m\u001b[1;32m    128\u001b[0m \u001b[0;34m\u001b[0m\u001b[0m\n\u001b[1;32m    129\u001b[0m \u001b[0;34m\u001b[0m\u001b[0m\n",
      "\u001b[0;31mKeyboardInterrupt\u001b[0m: "
     ]
    }
   ],
   "source": [
    "for epoch in range(Config.EPOCHS):\n",
    "    model.train()\n",
    "    running_loss = 0.0\n",
    "    running_acc = 0.0\n",
    "    for i, batch in enumerate(train_loader):\n",
    "        # forward and backward propagation\n",
    "        images = batch['image'].float()\n",
    "        labels = batch['label'].long()\n",
    "        outputs = model(images)\n",
    "        loss = criterion(outputs, labels)\n",
    "        optimizer.zero_grad()\n",
    "        loss.backward()\n",
    "        optimizer.step()\n",
    "\n",
    "        # save results\n",
    "        running_loss += loss.item()\n",
    "        _, predicted = torch.max(outputs, dim=1)\n",
    "        acc = (labels == predicted).sum().item()/(Config.BATCH_SIZE * Config.RESIZE[0] * Config.RESIZE[1])\n",
    "        running_acc += acc\n",
    "        # tensorboardx\n",
    "        writer.add_scalar('running_loss', loss.item(), (epoch+1)*(i+1))\n",
    "        writer.add_scalar('running_acc', acc, (epoch+1)*(i+1))\n",
    "\n",
    "        if (i != 0 and i % Config.PRINT_EVERY_START == 0) or (i != 0 and epoch > 3 and i % Config.PRINT_EVERY == 0):\n",
    "            stats = f'\\rEpoch: {epoch+1}/{Config.EPOCHS}, batch: {i}/{int(np.ceil(len(train_loader)/Config.BATCH_SIZE))}, ' \\\n",
    "                    f'train_loss: {running_loss/i:.5f}, train_acc: {running_acc/i:.4f}'\n",
    "            print(stats, end='', flush=True)\n",
    "\n",
    "    # calculcate loss and accuracy on validation dataset\n",
    "    with torch.no_grad():\n",
    "        val_loss, val_acc = validation(valid_loader, model, criterion, Config.BATCH_SIZE, Config.RESIZE)\n",
    "    stats = f'Epoch: {epoch+1}/{Config.EPOCHS}, train_loss: {running_loss/i:.5f}, valid_loss: {val_loss:.5f}, ' \\\n",
    "            f'train_acc: {running_acc/i:.4f}, valid_acc: {val_acc:.4f}'\n",
    "    print(stats)\n",
    "\n",
    "    # tensorboardx\n",
    "    writer.add_scalar('validation_loss', val_loss, epoch+1)\n",
    "    writer.add_scalar('validation_acc', val_acc, epoch+1)\n",
    "    \n",
    "    # check for early stopping\n",
    "    early_stopping(val_loss, model)\n",
    "    if early_stopping.early_stop:\n",
    "        print('Early stopping.')\n",
    "        break\n",
    "\n",
    "model.load_state_dict(torch.load('early_stopping_checkpoint.pt'))\n",
    "torch.save(model.state_dict(), Config.MODEL_NAME)\n",
    "print('Finished training')"
   ]
  },
  {
   "cell_type": "code",
   "execution_count": null,
   "metadata": {},
   "outputs": [],
   "source": []
  }
 ]
}