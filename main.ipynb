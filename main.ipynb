{
 "cells": [
  {
   "cell_type": "code",
   "execution_count": 1,
   "metadata": {},
   "outputs": [],
   "source": [
    "import json\n",
    "import numpy as np\n",
    "import torch\n",
    "from torch.utils.data.sampler import SubsetRandomSampler\n",
    "from torch.utils.data import DataLoader, Subset\n",
    "import torch.nn as nn\n",
    "import torch.optim as optim\n",
    "from torchvision.transforms import Compose, RandomChoice\n",
    "\n",
    "from utils import LandCoverDataset, Resize, ToTensor, Normalize, BrightnessJitter, ContrastJitter, SaturationJitter, HueJitter, EarlyStopping, validation\n",
    "from models import UNet"
   ]
  },
  {
   "cell_type": "code",
   "execution_count": 2,
   "metadata": {},
   "outputs": [],
   "source": [
    "class Config():\n",
    "    DEVICE = torch.device(\"cuda\" if torch.cuda.is_available() else \"cpu\")\n",
    "    DATA_FOLDER = 'data'\n",
    "    RESIZE = (224,224)\n",
    "    BATCH_SIZE = 16\n",
    "    TRAIN_SPLIT = .8\n",
    "    VAL_TEST_SPLIT = .5\n",
    "    SUFFLE_DATASET = True\n",
    "    RANDOM_SEED = 2137\n",
    "    try:\n",
    "        with open('norm_params.json', 'r') as f:\n",
    "            d = json.load(f)\n",
    "            MEANS = np.array(d['means'])\n",
    "            STDS = np.array(d['stds'])\n",
    "    except:\n",
    "        MEANS, STDS = None, None\n",
    "    LR = 0.001\n",
    "    EPOCHS = 200\n",
    "    PRINT_EVERY_START = 10\n",
    "    PRINT_EVERY = 100\n",
    "    MODEL_NAME = \"final_nn_model.pt\"\n",
    "    IN_CHANNELS=3\n",
    "    FEATURES=64\n",
    "    NUM_CLASSES=24"
   ]
  },
  {
   "cell_type": "code",
   "execution_count": 3,
   "metadata": {},
   "outputs": [
    {
     "name": "stdout",
     "output_type": "stream",
     "text": [
      "Using: cuda\n"
     ]
    }
   ],
   "source": [
    "print(f'Using: {Config.DEVICE}')"
   ]
  },
  {
   "cell_type": "markdown",
   "metadata": {},
   "source": [
    "# Load data "
   ]
  },
  {
   "cell_type": "markdown",
   "metadata": {},
   "source": [
    "## Calculate mean and standard deviation for normalization"
   ]
  },
  {
   "cell_type": "code",
   "execution_count": 4,
   "metadata": {
    "tags": []
   },
   "outputs": [
    {
     "name": "stdout",
     "output_type": "stream",
     "text": [
      "Means: [107.20428231 115.20819438  91.24265174]\n",
      "Stds:  [28.26958329 21.92561284 20.89934165]\n"
     ]
    }
   ],
   "source": [
    "# set train, valid and test indexes\n",
    "dataset = LandCoverDataset(root_dir=Config.DATA_FOLDER, transform=Resize(Config.RESIZE))\n",
    "indexes = list(range(len(dataset)))\n",
    "split_point = int(np.floor(Config.TRAIN_SPLIT * len(dataset)))\n",
    "if Config.SUFFLE_DATASET:\n",
    "    np.random.seed(Config.RANDOM_SEED)\n",
    "    np.random.shuffle(indexes)\n",
    "train_indexes, rest_indexes = indexes[:split_point], indexes[split_point:]\n",
    "val_test_split_point = int(np.floor(Config.VAL_TEST_SPLIT * len(rest_indexes)))\n",
    "valid_indexes, test_indexes = rest_indexes[:val_test_split_point], rest_indexes[val_test_split_point:]\n",
    "\n",
    "# make dataset samplers\n",
    "train_sampler = SubsetRandomSampler(train_indexes)\n",
    "valid_sampler = SubsetRandomSampler(valid_indexes)\n",
    "test_sampler = SubsetRandomSampler(test_indexes)\n",
    "\n",
    "# train loader (for calculating normalize parameters)\n",
    "loader = DataLoader(dataset=dataset, batch_size=Config.BATCH_SIZE, shuffle=False, sampler=train_sampler)\n",
    "\n",
    "# batch means and stds\n",
    "if Config.MEANS is None or Config.STDS is None:\n",
    "    batch_means = []\n",
    "    batch_stds = []\n",
    "    for i, sample in enumerate(loader):\n",
    "        images = sample['image']    \n",
    "        batch_means.append(np.mean(images.numpy(), axis=(0,1,2))) # batch, height, width\n",
    "        batch_stds.append(np.std(images.numpy(), axis=(0,1,2), ddof=1)) # batch, height, width\n",
    "\n",
    "    # overall mean and std per channel\n",
    "    Config.MEANS = np.array(batch_means).mean(axis=0)\n",
    "    Config.STDS = np.array(batch_stds).mean(axis=0)\n",
    "\n",
    "    # save to file\n",
    "    with open('norm_params.json', 'w') as f:\n",
    "        json.dump({'means': Config.MEANS.tolist(), 'stds': Config.STDS.tolist()}, f)\n",
    "\n",
    "print(f'Means: {Config.MEANS}\\nStds:  {Config.STDS}')"
   ]
  },
  {
   "cell_type": "markdown",
   "metadata": {},
   "source": [
    "## Prepare dataloaders"
   ]
  },
  {
   "cell_type": "code",
   "execution_count": 5,
   "metadata": {},
   "outputs": [],
   "source": [
    "# transformations\n",
    "train_transform = Compose([\n",
    "    Resize((224, 224)),\n",
    "    RandomChoice([\n",
    "        BrightnessJitter(brightness=.25),\n",
    "        ContrastJitter(contrast=.15),\n",
    "        SaturationJitter(saturation=.15),\n",
    "        HueJitter(hue=.1),\n",
    "        ]),\n",
    "    Normalize(mean=Config.MEANS, std=Config.STDS),\n",
    "    ToTensor(),\n",
    "])\n",
    "\n",
    "val_test_transform = Compose([\n",
    "    Resize((224, 224)),\n",
    "    Normalize(mean=Config.MEANS, std=Config.STDS),\n",
    "    ToTensor(),\n",
    "])\n",
    "\n",
    "# datasets (using samplers from previous step to create train/valid/test split)\n",
    "train_dataset = LandCoverDataset(root_dir=Config.DATA_FOLDER, transform=train_transform)\n",
    "train_dataset = Subset(dataset=train_dataset, indices=train_sampler.indices)\n",
    "\n",
    "val_test_dataset = LandCoverDataset(root_dir=Config.DATA_FOLDER, transform=val_test_transform)\n",
    "valid_dataset = Subset(dataset=val_test_dataset, indices=valid_sampler.indices)\n",
    "test_dataset = Subset(dataset=val_test_dataset, indices=test_sampler.indices)\n",
    "\n",
    "\n",
    "# dataloaders\n",
    "train_loader = DataLoader(dataset=train_dataset, batch_size=Config.BATCH_SIZE, shuffle=True, num_workers=4)\n",
    "valid_loader = DataLoader(dataset=valid_dataset, batch_size=Config.BATCH_SIZE, shuffle=True, num_workers=4)\n",
    "test_loader = DataLoader(dataset=test_dataset, batch_size=Config.BATCH_SIZE, shuffle=False, num_workers=4)"
   ]
  },
  {
   "cell_type": "markdown",
   "metadata": {},
   "source": [
    "# Model, loss, optimizer and other"
   ]
  },
  {
   "cell_type": "markdown",
   "metadata": {},
   "source": [
    "## Model"
   ]
  },
  {
   "cell_type": "code",
   "execution_count": 6,
   "metadata": {},
   "outputs": [
    {
     "data": {
      "text/plain": [
       "UNet(\n",
       "  (encoder): Sequential(\n",
       "    (0): Sequential(\n",
       "      (1): Conv2d(3, 64, kernel_size=(3, 3), stride=(1, 1), padding=(1, 1))\n",
       "      (2): BatchNorm2d(64, eps=1e-05, momentum=0.1, affine=True, track_running_stats=True)\n",
       "      (3): ReLU()\n",
       "      (4): Conv2d(64, 64, kernel_size=(3, 3), stride=(1, 1), padding=(1, 1))\n",
       "      (5): BatchNorm2d(64, eps=1e-05, momentum=0.1, affine=True, track_running_stats=True)\n",
       "      (6): ReLU()\n",
       "    )\n",
       "    (1): Sequential(\n",
       "      (0): MaxPool2d(kernel_size=2, stride=2, padding=0, dilation=1, ceil_mode=False)\n",
       "      (1): Conv2d(64, 128, kernel_size=(3, 3), stride=(1, 1), padding=(1, 1))\n",
       "      (2): BatchNorm2d(128, eps=1e-05, momentum=0.1, affine=True, track_running_stats=True)\n",
       "      (3): ReLU()\n",
       "      (4): Conv2d(128, 128, kernel_size=(3, 3), stride=(1, 1), padding=(1, 1))\n",
       "      (5): BatchNorm2d(128, eps=1e-05, momentum=0.1, affine=True, track_running_stats=True)\n",
       "      (6): ReLU()\n",
       "    )\n",
       "    (2): Sequential(\n",
       "      (0): MaxPool2d(kernel_size=2, stride=2, padding=0, dilation=1, ceil_mode=False)\n",
       "      (1): Conv2d(128, 256, kernel_size=(3, 3), stride=(1, 1), padding=(1, 1))\n",
       "      (2): BatchNorm2d(256, eps=1e-05, momentum=0.1, affine=True, track_running_stats=True)\n",
       "      (3): ReLU()\n",
       "      (4): Conv2d(256, 256, kernel_size=(3, 3), stride=(1, 1), padding=(1, 1))\n",
       "      (5): BatchNorm2d(256, eps=1e-05, momentum=0.1, affine=True, track_running_stats=True)\n",
       "      (6): ReLU()\n",
       "    )\n",
       "    (3): Sequential(\n",
       "      (0): MaxPool2d(kernel_size=2, stride=2, padding=0, dilation=1, ceil_mode=False)\n",
       "      (1): Conv2d(256, 512, kernel_size=(3, 3), stride=(1, 1), padding=(1, 1))\n",
       "      (2): BatchNorm2d(512, eps=1e-05, momentum=0.1, affine=True, track_running_stats=True)\n",
       "      (3): ReLU()\n",
       "      (4): Conv2d(512, 512, kernel_size=(3, 3), stride=(1, 1), padding=(1, 1))\n",
       "      (5): BatchNorm2d(512, eps=1e-05, momentum=0.1, affine=True, track_running_stats=True)\n",
       "      (6): ReLU()\n",
       "    )\n",
       "  )\n",
       "  (bottleneck): Sequential(\n",
       "    (0): Sequential(\n",
       "      (0): MaxPool2d(kernel_size=2, stride=2, padding=0, dilation=1, ceil_mode=False)\n",
       "      (1): Conv2d(512, 1024, kernel_size=(3, 3), stride=(1, 1), padding=(1, 1))\n",
       "      (2): BatchNorm2d(1024, eps=1e-05, momentum=0.1, affine=True, track_running_stats=True)\n",
       "      (3): ReLU()\n",
       "      (4): Conv2d(1024, 1024, kernel_size=(3, 3), stride=(1, 1), padding=(1, 1))\n",
       "      (5): BatchNorm2d(1024, eps=1e-05, momentum=0.1, affine=True, track_running_stats=True)\n",
       "      (6): ReLU()\n",
       "    )\n",
       "    (1): ConvTranspose2d(1024, 512, kernel_size=(2, 2), stride=(2, 2))\n",
       "  )\n",
       "  (decoder): Sequential(\n",
       "    (0): Sequential(\n",
       "      (0): Conv2d(1024, 512, kernel_size=(3, 3), stride=(1, 1), padding=(1, 1))\n",
       "      (1): BatchNorm2d(512, eps=1e-05, momentum=0.1, affine=True, track_running_stats=True)\n",
       "      (2): ReLU()\n",
       "      (3): Conv2d(512, 512, kernel_size=(3, 3), stride=(1, 1), padding=(1, 1))\n",
       "      (4): BatchNorm2d(512, eps=1e-05, momentum=0.1, affine=True, track_running_stats=True)\n",
       "      (5): ReLU()\n",
       "      (6): ConvTranspose2d(512, 256, kernel_size=(2, 2), stride=(2, 2))\n",
       "    )\n",
       "    (1): Sequential(\n",
       "      (0): Conv2d(512, 256, kernel_size=(3, 3), stride=(1, 1), padding=(1, 1))\n",
       "      (1): BatchNorm2d(256, eps=1e-05, momentum=0.1, affine=True, track_running_stats=True)\n",
       "      (2): ReLU()\n",
       "      (3): Conv2d(256, 256, kernel_size=(3, 3), stride=(1, 1), padding=(1, 1))\n",
       "      (4): BatchNorm2d(256, eps=1e-05, momentum=0.1, affine=True, track_running_stats=True)\n",
       "      (5): ReLU()\n",
       "      (6): ConvTranspose2d(256, 128, kernel_size=(2, 2), stride=(2, 2))\n",
       "    )\n",
       "    (2): Sequential(\n",
       "      (0): Conv2d(256, 128, kernel_size=(3, 3), stride=(1, 1), padding=(1, 1))\n",
       "      (1): BatchNorm2d(128, eps=1e-05, momentum=0.1, affine=True, track_running_stats=True)\n",
       "      (2): ReLU()\n",
       "      (3): Conv2d(128, 128, kernel_size=(3, 3), stride=(1, 1), padding=(1, 1))\n",
       "      (4): BatchNorm2d(128, eps=1e-05, momentum=0.1, affine=True, track_running_stats=True)\n",
       "      (5): ReLU()\n",
       "      (6): ConvTranspose2d(128, 64, kernel_size=(2, 2), stride=(2, 2))\n",
       "    )\n",
       "    (3): Sequential(\n",
       "      (0): Sequential(\n",
       "        (0): Conv2d(128, 64, kernel_size=(3, 3), stride=(1, 1), padding=(1, 1))\n",
       "        (1): BatchNorm2d(64, eps=1e-05, momentum=0.1, affine=True, track_running_stats=True)\n",
       "        (2): ReLU()\n",
       "        (3): Conv2d(64, 64, kernel_size=(3, 3), stride=(1, 1), padding=(1, 1))\n",
       "        (4): BatchNorm2d(64, eps=1e-05, momentum=0.1, affine=True, track_running_stats=True)\n",
       "        (5): ReLU()\n",
       "      )\n",
       "      (1): Conv2d(64, 24, kernel_size=(1, 1), stride=(1, 1))\n",
       "      (2): BatchNorm2d(24, eps=1e-05, momentum=0.1, affine=True, track_running_stats=True)\n",
       "      (3): LogSoftmax()\n",
       "    )\n",
       "  )\n",
       ")"
      ]
     },
     "execution_count": 6,
     "metadata": {},
     "output_type": "execute_result"
    }
   ],
   "source": [
    "model = UNet(in_channels=Config.IN_CHANNELS, features=Config.FEATURES, num_classes=Config.NUM_CLASSES)\n",
    "model.to(Config.DEVICE)\n",
    "model"
   ]
  },
  {
   "cell_type": "markdown",
   "metadata": {},
   "source": [
    "## Loss and optimizer"
   ]
  },
  {
   "cell_type": "code",
   "execution_count": 7,
   "metadata": {},
   "outputs": [],
   "source": [
    "criterion = nn.NLLLoss(reduction='mean').to(Config.DEVICE)\n",
    "optimizer = optim.Adam(model.parameters(), lr=Config.LR)"
   ]
  },
  {
   "cell_type": "markdown",
   "metadata": {},
   "source": [
    "## Other helpers"
   ]
  },
  {
   "cell_type": "code",
   "execution_count": 8,
   "metadata": {},
   "outputs": [],
   "source": [
    "early_stopping = EarlyStopping(patience=5, verbose=True, delta=0.001)"
   ]
  },
  {
   "cell_type": "markdown",
   "metadata": {},
   "source": [
    "# Training"
   ]
  },
  {
   "cell_type": "code",
   "execution_count": 9,
   "metadata": {
    "tags": []
   },
   "outputs": [
    {
     "name": "stdout",
     "output_type": "stream",
     "text": [
      "Epoch: 1/200, train_loss: 1.88841, valid_loss: 1.45123, train_acc: 0.4933, valid_acc: 0.5665\n",
      "Validation loss decreased (inf --> 1.451230).  Saving model ...\n",
      "Epoch: 2/200, train_loss: 1.49527, valid_loss: 1.33700, train_acc: 0.5412, valid_acc: 0.5808\n",
      "Validation loss decreased (1.451230 --> 1.336995).  Saving model ...\n",
      "Epoch: 3/200, train_loss: 1.38385, valid_loss: 1.27715, train_acc: 0.5610, valid_acc: 0.5896\n",
      "Validation loss decreased (1.336995 --> 1.277152).  Saving model ...\n",
      "Epoch: 4/200, train_loss: 1.31374, valid_loss: 1.37288, train_acc: 0.5795, valid_acc: 0.5354\n",
      "EarlyStopping counter: 1 out of 5\n",
      "Epoch: 5/200, train_loss: 1.26705, valid_loss: 1.36046, train_acc: 0.5915, valid_acc: 0.5674\n",
      "EarlyStopping counter: 2 out of 5\n"
     ]
    },
    {
     "name": "stderr",
     "output_type": "stream",
     "text": [
      "Traceback (most recent call last):\n",
      "  File \"/opt/conda/lib/python3.7/multiprocessing/queues.py\", line 242, in _feed\n",
      "    send_bytes(obj)\n",
      "  File \"/opt/conda/lib/python3.7/multiprocessing/connection.py\", line 200, in send_bytes\n",
      "    self._send_bytes(m[offset:offset + size])\n",
      "  File \"/opt/conda/lib/python3.7/multiprocessing/connection.py\", line 404, in _send_bytes\n",
      "    self._send(header + buf)\n",
      "  File \"/opt/conda/lib/python3.7/multiprocessing/connection.py\", line 368, in _send\n",
      "    n = write(self._handle, buf)\n",
      "BrokenPipeError: [Errno 32] Broken pipe\n"
     ]
    },
    {
     "ename": "KeyboardInterrupt",
     "evalue": "",
     "output_type": "error",
     "traceback": [
      "\u001b[0;31m---------------------------------------------------------------------------\u001b[0m",
      "\u001b[0;31mKeyboardInterrupt\u001b[0m                         Traceback (most recent call last)",
      "\u001b[0;32m<ipython-input-9-06bcf025d700>\u001b[0m in \u001b[0;36m<module>\u001b[0;34m\u001b[0m\n\u001b[1;32m     23\u001b[0m \u001b[0;34m\u001b[0m\u001b[0m\n\u001b[1;32m     24\u001b[0m         \u001b[0;31m# save results\u001b[0m\u001b[0;34m\u001b[0m\u001b[0;34m\u001b[0m\u001b[0;34m\u001b[0m\u001b[0m\n\u001b[0;32m---> 25\u001b[0;31m         \u001b[0mrunning_loss\u001b[0m \u001b[0;34m+=\u001b[0m \u001b[0mloss\u001b[0m\u001b[0;34m.\u001b[0m\u001b[0mitem\u001b[0m\u001b[0;34m(\u001b[0m\u001b[0;34m)\u001b[0m\u001b[0;34m\u001b[0m\u001b[0;34m\u001b[0m\u001b[0m\n\u001b[0m\u001b[1;32m     26\u001b[0m         \u001b[0m_\u001b[0m\u001b[0;34m,\u001b[0m \u001b[0mpredicted\u001b[0m \u001b[0;34m=\u001b[0m \u001b[0mtorch\u001b[0m\u001b[0;34m.\u001b[0m\u001b[0mmax\u001b[0m\u001b[0;34m(\u001b[0m\u001b[0moutputs\u001b[0m\u001b[0;34m,\u001b[0m \u001b[0mdim\u001b[0m\u001b[0;34m=\u001b[0m\u001b[0;36m1\u001b[0m\u001b[0;34m)\u001b[0m\u001b[0;34m\u001b[0m\u001b[0;34m\u001b[0m\u001b[0m\n\u001b[1;32m     27\u001b[0m         \u001b[0macc\u001b[0m \u001b[0;34m=\u001b[0m \u001b[0;34m(\u001b[0m\u001b[0mlabels\u001b[0m \u001b[0;34m==\u001b[0m \u001b[0mpredicted\u001b[0m\u001b[0;34m)\u001b[0m\u001b[0;34m.\u001b[0m\u001b[0msum\u001b[0m\u001b[0;34m(\u001b[0m\u001b[0;34m)\u001b[0m\u001b[0;34m.\u001b[0m\u001b[0mitem\u001b[0m\u001b[0;34m(\u001b[0m\u001b[0;34m)\u001b[0m\u001b[0;34m/\u001b[0m\u001b[0;34m(\u001b[0m\u001b[0mConfig\u001b[0m\u001b[0;34m.\u001b[0m\u001b[0mBATCH_SIZE\u001b[0m \u001b[0;34m*\u001b[0m \u001b[0mConfig\u001b[0m\u001b[0;34m.\u001b[0m\u001b[0mRESIZE\u001b[0m\u001b[0;34m[\u001b[0m\u001b[0;36m0\u001b[0m\u001b[0;34m]\u001b[0m \u001b[0;34m*\u001b[0m \u001b[0mConfig\u001b[0m\u001b[0;34m.\u001b[0m\u001b[0mRESIZE\u001b[0m\u001b[0;34m[\u001b[0m\u001b[0;36m1\u001b[0m\u001b[0;34m]\u001b[0m\u001b[0;34m)\u001b[0m\u001b[0;34m\u001b[0m\u001b[0;34m\u001b[0m\u001b[0m\n",
      "\u001b[0;31mKeyboardInterrupt\u001b[0m: "
     ]
    }
   ],
   "source": [
    "# start from last checkpoint\n",
    "try:\n",
    "    checkpoint = torch.load('unet_after_epoch.pt')\n",
    "    model.load_state_dict(checkpoint['state_dict'])\n",
    "    next_epoch = checkpoint['epoch'] + 1\n",
    "except:\n",
    "    next_epoch = 0\n",
    "\n",
    "# train\n",
    "for epoch in range(next_epoch, Config.EPOCHS):\n",
    "    model.train()\n",
    "    running_loss = 0.0\n",
    "    running_acc = 0.0\n",
    "    for i, batch in enumerate(train_loader):\n",
    "        # forward and backward propagation\n",
    "        images = batch['image'].float().to(Config.DEVICE)\n",
    "        labels = batch['label'].long().to(Config.DEVICE)\n",
    "        outputs = model(images)\n",
    "        loss = criterion(outputs, labels)\n",
    "        optimizer.zero_grad()\n",
    "        loss.backward()\n",
    "        optimizer.step()\n",
    "\n",
    "        # save results\n",
    "        running_loss += loss.item()\n",
    "        _, predicted = torch.max(outputs, dim=1)\n",
    "        acc = (labels == predicted).sum().item()/(Config.BATCH_SIZE * Config.RESIZE[0] * Config.RESIZE[1])\n",
    "        running_acc += acc\n",
    "\n",
    "        if (i > 0 and i % Config.PRINT_EVERY_START == 0) or (i != 0 and epoch > 3 and i % Config.PRINT_EVERY == 0):\n",
    "            stats = f'Epoch: {epoch+1}/{Config.EPOCHS}, batch: {i}/{len(train_loader)}, ' \\\n",
    "                    f'train_loss: {running_loss/i:.5f}, train_acc: {running_acc/i:.4f}'\n",
    "            print('\\r'+stats, end='', flush=True)\n",
    "            with open('stats.log', 'a') as f:\n",
    "                print(stats, file=f)\n",
    "\n",
    "\n",
    "    # calculcate loss and accuracy on validation dataset\n",
    "    with torch.no_grad():\n",
    "        val_loss, val_acc = validation(valid_loader, model, criterion, Config.DEVICE, Config.BATCH_SIZE, Config.RESIZE)\n",
    "    stats = f'Epoch: {epoch+1}/{Config.EPOCHS}, train_loss: {running_loss/i:.5f}, valid_loss: {val_loss:.5f}, ' \\\n",
    "            f'train_acc: {running_acc/i:.4f}, valid_acc: {val_acc:.4f}'\n",
    "    print('\\r'+stats)\n",
    "    with open('stats.log', 'a') as f:\n",
    "        print(stats, file=f)\n",
    "\n",
    "    # save after each epoch\n",
    "    torch.save({\n",
    "        'in_channels': Config.IN_CHANNELS, \n",
    "        'features': Config.FEATURES, \n",
    "        'num_classes': Config.NUM_CLASSES,\n",
    "        'state_dict': model.state_dict(),\n",
    "        'epoch': epoch,\n",
    "    }, 'unet_after_epoch.pt')\n",
    "    \n",
    "    # check for early stopping\n",
    "    early_stopping(val_loss, model)\n",
    "    if early_stopping.early_stop:\n",
    "        print('Early stopping.')\n",
    "        break\n",
    "\n",
    "model.load_state_dict(torch.load('early_stopping_checkpoint.pt'))\n",
    "torch.save({\n",
    "        'in_channels': Config.IN_CHANNELS, \n",
    "        'features': Config.FEATURES, \n",
    "        'num_classes': Config.NUM_CLASSES,\n",
    "        'state_dict': model.state_dict()\n",
    "    }, Config.MODEL_NAME)\n",
    "print('\\nFinished training')"
   ]
  }
 ],
 "metadata": {
  "environment": {
   "name": "pytorch-gpu.1-4.m50",
   "type": "gcloud",
   "uri": "gcr.io/deeplearning-platform-release/pytorch-gpu.1-4:m50"
  },
  "kernelspec": {
   "display_name": "landcover",
   "language": "python",
   "name": "landcover"
  },
  "language_info": {
   "codemirror_mode": {
    "name": "ipython",
    "version": 3
   },
   "file_extension": ".py",
   "mimetype": "text/x-python",
   "name": "python",
   "nbconvert_exporter": "python",
   "pygments_lexer": "ipython3",
   "version": "3.7.6"
  }
 },
 "nbformat": 4,
 "nbformat_minor": 2
}
